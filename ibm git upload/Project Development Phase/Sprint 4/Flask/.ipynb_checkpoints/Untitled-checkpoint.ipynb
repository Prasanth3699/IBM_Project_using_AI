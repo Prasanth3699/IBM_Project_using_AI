{
 "cells": [
  {
   "cell_type": "code",
   "execution_count": 2,
   "id": "8887f43d",
   "metadata": {},
   "outputs": [],
   "source": [
    "import cv2\n",
    "import numpy as np\n",
    "from tensorflow.keras.models import load_model\n",
    "from tensorflow.keras.preprocessing import image\n",
    "\n",
    "class Video(object):\n",
    "\tdef __init__(self):\n",
    "\t\tself.video = cv2.VideoCapture(0)\n",
    "\t\tself.roi_start = (50, 150)\n",
    "\t\tself.roi_end = (250, 350)\n",
    "\t\tself.model = load_model('aslpng1.h5') # Execute Local Trained Model\n",
    "\t\t# self.model = load_model('IBM_Communication_Model.h5') # Execute IBM Trained Model\n",
    "\t\tself.index=['A','B','C','D','E','F','G','H','I']\n",
    "\t\tself.y = None\n",
    "\tdef __del__(self):\n",
    "\t\tself.video.release()\n",
    "\tdef get_frame(self):\n",
    "\t\tret,frame = self.video.read()\n",
    "\t\tframe = cv2.resize(frame, (640, 480))\n",
    "\t\tcopy = frame.copy()\n",
    "\t\tcopy = copy[150:150+200,50:50+200]\n",
    "\t\t# Prediction Start\n",
    "\t\tcv2.imwrite('image.jpg',copy)\n",
    "\t\tcopy_img = image.load_img('image.jpg', target_size=(64,64))\n",
    "\t\tx = image.img_to_array(copy_img)\n",
    "\t\tx = np.expand_dims(x, axis=0)\n",
    "\t\tpred = np.argmax(self.model.predict(x), axis=1)\n",
    "\t\tself.y = pred[0]\n",
    "\t\tcv2.putText(frame,'The Predicted Alphabet is: '+str(self.index[self.y]),(100,50),cv2.FONT_HERSHEY_SIMPLEX,1,(0,0,0),3)\n",
    "\t\tret,jpg = cv2.imencode('.jpg', frame)\n",
    "\t\treturn jpg.tobytes()"
   ]
  },
  {
   "cell_type": "code",
   "execution_count": null,
   "id": "c3a4e9f2",
   "metadata": {},
   "outputs": [
    {
     "name": "stdout",
     "output_type": "stream",
     "text": [
      " * Serving Flask app \"__main__\" (lazy loading)\n",
      " * Environment: production\n",
      "\u001b[31m   WARNING: This is a development server. Do not use it in a production deployment.\u001b[0m\n",
      "\u001b[2m   Use a production WSGI server instead.\u001b[0m\n",
      " * Debug mode: off\n"
     ]
    },
    {
     "name": "stderr",
     "output_type": "stream",
     "text": [
      " * Running on http://127.0.0.1:5000/ (Press CTRL+C to quit)\n",
      "[2022-11-14 13:32:27,649] ERROR in app: Exception on / [GET]\n",
      "Traceback (most recent call last):\n",
      "  File \"C:\\Users\\prasa\\anaconda3\\lib\\site-packages\\flask\\app.py\", line 2447, in wsgi_app\n",
      "    response = self.full_dispatch_request()\n",
      "  File \"C:\\Users\\prasa\\anaconda3\\lib\\site-packages\\flask\\app.py\", line 1952, in full_dispatch_request\n",
      "    rv = self.handle_user_exception(e)\n",
      "  File \"C:\\Users\\prasa\\anaconda3\\lib\\site-packages\\flask\\app.py\", line 1821, in handle_user_exception\n",
      "    reraise(exc_type, exc_value, tb)\n",
      "  File \"C:\\Users\\prasa\\anaconda3\\lib\\site-packages\\flask\\_compat.py\", line 39, in reraise\n",
      "    raise value\n",
      "  File \"C:\\Users\\prasa\\anaconda3\\lib\\site-packages\\flask\\app.py\", line 1950, in full_dispatch_request\n",
      "    rv = self.dispatch_request()\n",
      "  File \"C:\\Users\\prasa\\anaconda3\\lib\\site-packages\\flask\\app.py\", line 1936, in dispatch_request\n",
      "    return self.view_functions[rule.endpoint](**req.view_args)\n",
      "  File \"C:\\Users\\prasa\\AppData\\Local\\Temp\\ipykernel_11944\\1922465834.py\", line 7, in index\n",
      "    return render_template('index.html')\n",
      "  File \"C:\\Users\\prasa\\anaconda3\\lib\\site-packages\\flask\\templating.py\", line 137, in render_template\n",
      "    return _render(\n",
      "  File \"C:\\Users\\prasa\\anaconda3\\lib\\site-packages\\flask\\templating.py\", line 120, in _render\n",
      "    rv = template.render(context)\n",
      "  File \"C:\\Users\\prasa\\anaconda3\\lib\\site-packages\\jinja2\\environment.py\", line 1090, in render\n",
      "    self.environment.handle_exception()\n",
      "  File \"C:\\Users\\prasa\\anaconda3\\lib\\site-packages\\jinja2\\environment.py\", line 832, in handle_exception\n",
      "    reraise(*rewrite_traceback_stack(source=source))\n",
      "  File \"C:\\Users\\prasa\\anaconda3\\lib\\site-packages\\jinja2\\_compat.py\", line 28, in reraise\n",
      "    raise value.with_traceback(tb)\n",
      "  File \"C:\\Users\\prasa\\OneDrive\\Desktop\\IBM_deployment\\Flask\\templates\\index.html\", line 30, in top-level template code\n",
      "    <img src=\"{{ url_for('video_ feed') }}\" style=\"width: 100%;height: 100%;color: rgb(255,255,255);text-align: center;font-size: 20px;\"\n",
      "  File \"C:\\Users\\prasa\\anaconda3\\lib\\site-packages\\flask\\helpers.py\", line 370, in url_for\n",
      "    return appctx.app.handle_url_build_error(error, endpoint, values)\n",
      "  File \"C:\\Users\\prasa\\anaconda3\\lib\\site-packages\\flask\\app.py\", line 2216, in handle_url_build_error\n",
      "    reraise(exc_type, exc_value, tb)\n",
      "  File \"C:\\Users\\prasa\\anaconda3\\lib\\site-packages\\flask\\_compat.py\", line 39, in reraise\n",
      "    raise value\n",
      "  File \"C:\\Users\\prasa\\anaconda3\\lib\\site-packages\\flask\\helpers.py\", line 357, in url_for\n",
      "    rv = url_adapter.build(\n",
      "  File \"C:\\Users\\prasa\\anaconda3\\lib\\site-packages\\werkzeug\\routing.py\", line 2315, in build\n",
      "    raise BuildError(endpoint, values, method, self)\n",
      "werkzeug.routing.BuildError: Could not build url for endpoint 'video_ feed'. Did you mean 'video_feed' instead?\n",
      "127.0.0.1 - - [14/Nov/2022 13:32:27] \"GET / HTTP/1.1\" 500 -\n",
      "127.0.0.1 - - [14/Nov/2022 13:32:27] \"GET /favicon.ico HTTP/1.1\" 404 -\n",
      "[2022-11-14 13:33:42,825] ERROR in app: Exception on / [GET]\n",
      "Traceback (most recent call last):\n",
      "  File \"C:\\Users\\prasa\\anaconda3\\lib\\site-packages\\flask\\app.py\", line 2447, in wsgi_app\n",
      "    response = self.full_dispatch_request()\n",
      "  File \"C:\\Users\\prasa\\anaconda3\\lib\\site-packages\\flask\\app.py\", line 1952, in full_dispatch_request\n",
      "    rv = self.handle_user_exception(e)\n",
      "  File \"C:\\Users\\prasa\\anaconda3\\lib\\site-packages\\flask\\app.py\", line 1821, in handle_user_exception\n",
      "    reraise(exc_type, exc_value, tb)\n",
      "  File \"C:\\Users\\prasa\\anaconda3\\lib\\site-packages\\flask\\_compat.py\", line 39, in reraise\n",
      "    raise value\n",
      "  File \"C:\\Users\\prasa\\anaconda3\\lib\\site-packages\\flask\\app.py\", line 1950, in full_dispatch_request\n",
      "    rv = self.dispatch_request()\n",
      "  File \"C:\\Users\\prasa\\anaconda3\\lib\\site-packages\\flask\\app.py\", line 1936, in dispatch_request\n",
      "    return self.view_functions[rule.endpoint](**req.view_args)\n",
      "  File \"C:\\Users\\prasa\\AppData\\Local\\Temp\\ipykernel_11944\\1922465834.py\", line 7, in index\n",
      "    return render_template('index.html')\n",
      "  File \"C:\\Users\\prasa\\anaconda3\\lib\\site-packages\\flask\\templating.py\", line 137, in render_template\n",
      "    return _render(\n",
      "  File \"C:\\Users\\prasa\\anaconda3\\lib\\site-packages\\flask\\templating.py\", line 120, in _render\n",
      "    rv = template.render(context)\n",
      "  File \"C:\\Users\\prasa\\anaconda3\\lib\\site-packages\\jinja2\\environment.py\", line 1090, in render\n",
      "    self.environment.handle_exception()\n",
      "  File \"C:\\Users\\prasa\\anaconda3\\lib\\site-packages\\jinja2\\environment.py\", line 832, in handle_exception\n",
      "    reraise(*rewrite_traceback_stack(source=source))\n",
      "  File \"C:\\Users\\prasa\\anaconda3\\lib\\site-packages\\jinja2\\_compat.py\", line 28, in reraise\n",
      "    raise value.with_traceback(tb)\n",
      "  File \"C:\\Users\\prasa\\OneDrive\\Desktop\\IBM_deployment\\Flask\\templates\\index.html\", line 30, in top-level template code\n",
      "    <img src=\"{{ url_for('video_ feed') }}\" style=\"width: 100%;height: 100%;color: rgb(255,255,255);text-align: center;font-size: 20px;\"\n",
      "  File \"C:\\Users\\prasa\\anaconda3\\lib\\site-packages\\flask\\helpers.py\", line 370, in url_for\n",
      "    return appctx.app.handle_url_build_error(error, endpoint, values)\n",
      "  File \"C:\\Users\\prasa\\anaconda3\\lib\\site-packages\\flask\\app.py\", line 2216, in handle_url_build_error\n",
      "    reraise(exc_type, exc_value, tb)\n",
      "  File \"C:\\Users\\prasa\\anaconda3\\lib\\site-packages\\flask\\_compat.py\", line 39, in reraise\n",
      "    raise value\n",
      "  File \"C:\\Users\\prasa\\anaconda3\\lib\\site-packages\\flask\\helpers.py\", line 357, in url_for\n",
      "    rv = url_adapter.build(\n",
      "  File \"C:\\Users\\prasa\\anaconda3\\lib\\site-packages\\werkzeug\\routing.py\", line 2315, in build\n",
      "    raise BuildError(endpoint, values, method, self)\n",
      "werkzeug.routing.BuildError: Could not build url for endpoint 'video_ feed'. Did you mean 'video_feed' instead?\n",
      "127.0.0.1 - - [14/Nov/2022 13:33:42] \"GET / HTTP/1.1\" 500 -\n"
     ]
    }
   ],
   "source": [
    "from flask import Flask, Response, render_template\n",
    "from camera import Video\n",
    "\n",
    "app = Flask(__name__)\n",
    "@app.route('/')\n",
    "def index():\n",
    "\treturn render_template('index.html')\n",
    "\n",
    "def gen(camera):\n",
    "\twhile True:\n",
    "\t\tframe = camera.get_frame()\n",
    "\t\tyield(b'--frame\\r\\n'\n",
    "\t\t\tb'Content-Type: image/jpeg\\r\\n\\r\\n' + frame +\n",
    "\t\t\tb'\\r\\n\\r\\n')\n",
    "\n",
    "@app.route('/video_feed')\n",
    "def video_feed():\n",
    "\tvideo = Video()\n",
    "\treturn Response(gen(video), mimetype='multipart/x-mixed-replace; boundary = frame')\n",
    "\n",
    "\n",
    "if __name__ == '__main__':\n",
    "\tapp.run()"
   ]
  },
  {
   "cell_type": "code",
   "execution_count": null,
   "id": "1c4b8e1e",
   "metadata": {},
   "outputs": [],
   "source": []
  }
 ],
 "metadata": {
  "kernelspec": {
   "display_name": "Python 3 (ipykernel)",
   "language": "python",
   "name": "python3"
  },
  "language_info": {
   "codemirror_mode": {
    "name": "ipython",
    "version": 3
   },
   "file_extension": ".py",
   "mimetype": "text/x-python",
   "name": "python",
   "nbconvert_exporter": "python",
   "pygments_lexer": "ipython3",
   "version": "3.9.12"
  },
  "varInspector": {
   "cols": {
    "lenName": 16,
    "lenType": 16,
    "lenVar": 40
   },
   "kernels_config": {
    "python": {
     "delete_cmd_postfix": "",
     "delete_cmd_prefix": "del ",
     "library": "var_list.py",
     "varRefreshCmd": "print(var_dic_list())"
    },
    "r": {
     "delete_cmd_postfix": ") ",
     "delete_cmd_prefix": "rm(",
     "library": "var_list.r",
     "varRefreshCmd": "cat(var_dic_list()) "
    }
   },
   "types_to_exclude": [
    "module",
    "function",
    "builtin_function_or_method",
    "instance",
    "_Feature"
   ],
   "window_display": false
  },
  "vscode": {
   "interpreter": {
    "hash": "1885b41ac4b182bc0bba85048cb0d140eb266fe430e395b8e1d89c36f2cbed83"
   }
  }
 },
 "nbformat": 4,
 "nbformat_minor": 5
}
