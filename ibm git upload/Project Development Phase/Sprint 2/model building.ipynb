{
 "cells": [
  {
   "cell_type": "code",
   "execution_count": 1,
   "id": "14a268c2",
   "metadata": {},
   "outputs": [],
   "source": [
    "from keras.preprocessing.image import ImageDataGenerator"
   ]
  },
  {
   "cell_type": "code",
   "execution_count": 2,
   "id": "6ba2d113",
   "metadata": {},
   "outputs": [],
   "source": [
    "train_datagen = ImageDataGenerator(rescale = 1./255 , shear_range=0.2, zoom_range=0.2,horizontal_flip=True)\n",
    "test_datagen = ImageDataGenerator(rescale = 1./255)"
   ]
  },
  {
   "cell_type": "code",
   "execution_count": 3,
   "id": "ffee24a0",
   "metadata": {},
   "outputs": [
    {
     "name": "stdout",
     "output_type": "stream",
     "text": [
      "Found 15750 images belonging to 9 classes.\n",
      "Found 2250 images belonging to 9 classes.\n"
     ]
    }
   ],
   "source": [
    "x_train = train_datagen.flow_from_directory('dataset/training_set',target_size=(64,64),batch_size=900, class_mode='categorical', color_mode='grayscale')\n",
    "x_test = test_datagen.flow_from_directory('dataset/test_set',target_size=(64,64),batch_size=900, class_mode='categorical', color_mode='grayscale')"
   ]
  },
  {
   "cell_type": "code",
   "execution_count": 5,
   "id": "f0dd801e",
   "metadata": {},
   "outputs": [
    {
     "data": {
      "text/plain": [
       "{'A': 0, 'B': 1, 'C': 2, 'D': 3, 'E': 4, 'F': 5, 'G': 6, 'H': 7, 'I': 8}"
      ]
     },
     "execution_count": 5,
     "metadata": {},
     "output_type": "execute_result"
    }
   ],
   "source": [
    "x_train.class_indices"
   ]
  },
  {
   "cell_type": "code",
   "execution_count": 31,
   "id": "2a63c43e",
   "metadata": {},
   "outputs": [],
   "source": [
    "# Importing Libraries\n",
    "from tensorflow.keras.models import Sequential\n",
    "from tensorflow.keras.layers import Convolution2D,MaxPooling2D,Flatten,Dense"
   ]
  },
  {
   "cell_type": "code",
   "execution_count": 32,
   "id": "23b8d237",
   "metadata": {},
   "outputs": [],
   "source": [
    "# Creating Model\n",
    "model=Sequential()"
   ]
  },
  {
   "cell_type": "code",
   "execution_count": 33,
   "id": "e8e61252",
   "metadata": {},
   "outputs": [],
   "source": [
    "# Adding Layers\n",
    "model.add(Convolution2D(32,(3,3),activation='relu',input_shape=(64,64,1)))\n",
    "model.add(MaxPooling2D(pool_size=(2,2)))\n",
    "model.add(Flatten())\n",
    "\n",
    "# Adding Hidden Layers\n",
    "model.add(Dense(300,activation='relu'))\n",
    "model.add(Dense(512,activation='relu'))\n",
    "\n",
    "# Adding Output Layer\n",
    "model.add(Dense(9,activation='softmax'))"
   ]
  },
  {
   "cell_type": "code",
   "execution_count": 34,
   "id": "1be64636",
   "metadata": {},
   "outputs": [],
   "source": [
    "# Compiling the Model\n",
    "model.compile(loss='categorical_crossentropy',optimizer='adam',metrics=['accuracy'])"
   ]
  },
  {
   "cell_type": "code",
   "execution_count": 35,
   "id": "0bfea4e9",
   "metadata": {},
   "outputs": [
    {
     "name": "stdout",
     "output_type": "stream",
     "text": [
      "Epoch 1/10\n",
      "18/18 [==============================] - 35s 2s/step - loss: 0.8970 - accuracy: 0.6950 - val_loss: 0.3145 - val_accuracy: 0.8987\n",
      "Epoch 2/10\n",
      "18/18 [==============================] - 38s 2s/step - loss: 0.1944 - accuracy: 0.9416 - val_loss: 0.2033 - val_accuracy: 0.9440\n",
      "Epoch 3/10\n",
      "18/18 [==============================] - 30s 2s/step - loss: 0.0844 - accuracy: 0.9750 - val_loss: 0.1841 - val_accuracy: 0.9582\n",
      "Epoch 4/10\n",
      "18/18 [==============================] - 26s 1s/step - loss: 0.0436 - accuracy: 0.9881 - val_loss: 0.1549 - val_accuracy: 0.9751\n",
      "Epoch 5/10\n",
      "18/18 [==============================] - 26s 1s/step - loss: 0.0252 - accuracy: 0.9937 - val_loss: 0.1570 - val_accuracy: 0.9769\n",
      "Epoch 6/10\n",
      "18/18 [==============================] - 28s 2s/step - loss: 0.0133 - accuracy: 0.9976 - val_loss: 0.1618 - val_accuracy: 0.9764\n",
      "Epoch 7/10\n",
      "18/18 [==============================] - 25s 1s/step - loss: 0.0097 - accuracy: 0.9981 - val_loss: 0.1936 - val_accuracy: 0.9760\n",
      "Epoch 8/10\n",
      "18/18 [==============================] - 25s 1s/step - loss: 0.0081 - accuracy: 0.9982 - val_loss: 0.2045 - val_accuracy: 0.9769\n",
      "Epoch 9/10\n",
      "18/18 [==============================] - 25s 1s/step - loss: 0.0056 - accuracy: 0.9987 - val_loss: 0.2384 - val_accuracy: 0.9760\n",
      "Epoch 10/10\n",
      "18/18 [==============================] - 25s 1s/step - loss: 0.0042 - accuracy: 0.9994 - val_loss: 0.2156 - val_accuracy: 0.9760\n"
     ]
    },
    {
     "data": {
      "text/plain": [
       "<keras.callbacks.History at 0x2251f7f8130>"
      ]
     },
     "execution_count": 35,
     "metadata": {},
     "output_type": "execute_result"
    }
   ],
   "source": [
    "# Fitting the Model Generator\n",
    "model.fit(x_train,steps_per_epoch=len(x_train),epochs=10,validation_data=x_test,validation_steps=len(x_test))"
   ]
  },
  {
   "cell_type": "code",
   "execution_count": 36,
   "id": "f185ef91",
   "metadata": {},
   "outputs": [],
   "source": [
    "model.save('aslpng1.h5')\n",
    "# Current accuracy is 0.9994"
   ]
  },
  {
   "cell_type": "code",
   "execution_count": 5,
   "id": "3938070c",
   "metadata": {},
   "outputs": [
    {
     "name": "stderr",
     "output_type": "stream",
     "text": [
      "a aslpng1.h5\n"
     ]
    }
   ],
   "source": [
    "!tar -zcvf IBM_Communication_Model.tgz aslpng1.h5"
   ]
  },
  {
   "cell_type": "code",
   "execution_count": 1,
   "id": "3a1afa62",
   "metadata": {
    "collapsed": true
   },
   "outputs": [
    {
     "name": "stdout",
     "output_type": "stream",
     "text": [
      "Collecting watson-machine-learning-client\n",
      "  Downloading watson_machine_learning_client-1.0.391-py3-none-any.whl (538 kB)\n",
      "Collecting lomond\n",
      "  Downloading lomond-0.3.3-py2.py3-none-any.whl (35 kB)\n",
      "Requirement already satisfied: boto3 in c:\\users\\prasa\\anaconda3\\lib\\site-packages (from watson-machine-learning-client) (1.21.32)\n",
      "Requirement already satisfied: requests in c:\\users\\prasa\\anaconda3\\lib\\site-packages (from watson-machine-learning-client) (2.27.1)\n",
      "Requirement already satisfied: certifi in c:\\users\\prasa\\anaconda3\\lib\\site-packages (from watson-machine-learning-client) (2021.10.8)\n",
      "Requirement already satisfied: urllib3 in c:\\users\\prasa\\anaconda3\\lib\\site-packages (from watson-machine-learning-client) (1.26.9)\n",
      "Requirement already satisfied: tabulate in c:\\users\\prasa\\anaconda3\\lib\\site-packages (from watson-machine-learning-client) (0.8.9)\n",
      "Requirement already satisfied: pandas in c:\\users\\prasa\\anaconda3\\lib\\site-packages (from watson-machine-learning-client) (1.4.2)\n",
      "Requirement already satisfied: tqdm in c:\\users\\prasa\\anaconda3\\lib\\site-packages (from watson-machine-learning-client) (4.64.0)\n",
      "Collecting ibm-cos-sdk\n",
      "  Downloading ibm-cos-sdk-2.12.0.tar.gz (55 kB)\n",
      "Requirement already satisfied: jmespath<2.0.0,>=0.7.1 in c:\\users\\prasa\\anaconda3\\lib\\site-packages (from boto3->watson-machine-learning-client) (0.10.0)\n",
      "Requirement already satisfied: s3transfer<0.6.0,>=0.5.0 in c:\\users\\prasa\\anaconda3\\lib\\site-packages (from boto3->watson-machine-learning-client) (0.5.0)\n",
      "Requirement already satisfied: botocore<1.25.0,>=1.24.32 in c:\\users\\prasa\\anaconda3\\lib\\site-packages (from boto3->watson-machine-learning-client) (1.24.32)\n",
      "Requirement already satisfied: python-dateutil<3.0.0,>=2.1 in c:\\users\\prasa\\anaconda3\\lib\\site-packages (from botocore<1.25.0,>=1.24.32->boto3->watson-machine-learning-client) (2.8.2)\n",
      "Requirement already satisfied: six>=1.5 in c:\\users\\prasa\\anaconda3\\lib\\site-packages (from python-dateutil<3.0.0,>=2.1->botocore<1.25.0,>=1.24.32->boto3->watson-machine-learning-client) (1.16.0)\n",
      "Collecting ibm-cos-sdk-core==2.12.0\n",
      "  Downloading ibm-cos-sdk-core-2.12.0.tar.gz (956 kB)\n",
      "Collecting ibm-cos-sdk-s3transfer==2.12.0\n",
      "  Downloading ibm-cos-sdk-s3transfer-2.12.0.tar.gz (135 kB)\n",
      "Requirement already satisfied: charset-normalizer~=2.0.0 in c:\\users\\prasa\\anaconda3\\lib\\site-packages (from requests->watson-machine-learning-client) (2.0.4)\n",
      "Requirement already satisfied: idna<4,>=2.5 in c:\\users\\prasa\\anaconda3\\lib\\site-packages (from requests->watson-machine-learning-client) (3.3)\n",
      "Requirement already satisfied: numpy>=1.18.5 in c:\\users\\prasa\\anaconda3\\lib\\site-packages (from pandas->watson-machine-learning-client) (1.21.5)\n",
      "Requirement already satisfied: pytz>=2020.1 in c:\\users\\prasa\\anaconda3\\lib\\site-packages (from pandas->watson-machine-learning-client) (2021.3)\n",
      "Requirement already satisfied: colorama in c:\\users\\prasa\\anaconda3\\lib\\site-packages (from tqdm->watson-machine-learning-client) (0.4.4)\n",
      "Building wheels for collected packages: ibm-cos-sdk, ibm-cos-sdk-core, ibm-cos-sdk-s3transfer\n",
      "  Building wheel for ibm-cos-sdk (setup.py): started\n",
      "  Building wheel for ibm-cos-sdk (setup.py): finished with status 'done'\n",
      "  Created wheel for ibm-cos-sdk: filename=ibm_cos_sdk-2.12.0-py3-none-any.whl size=73930 sha256=846af31e1d8557e67b8a3c49ac39f1284e0798c435ad8e236b126a667fad2b25\n",
      "  Stored in directory: c:\\users\\prasa\\appdata\\local\\pip\\cache\\wheels\\31\\8c\\e6\\9bd830e254449a64d3e3c8a79da6fb6bc940a19b165d76c3c2\n",
      "  Building wheel for ibm-cos-sdk-core (setup.py): started\n",
      "  Building wheel for ibm-cos-sdk-core (setup.py): finished with status 'done'\n",
      "  Created wheel for ibm-cos-sdk-core: filename=ibm_cos_sdk_core-2.12.0-py3-none-any.whl size=562962 sha256=99b049106c405adcbe7f75d9cedfb5db653a6b63e8adb1850c21d1828d769cbb\n",
      "  Stored in directory: c:\\users\\prasa\\appdata\\local\\pip\\cache\\wheels\\e4\\4c\\9e\\97ee8774f14cbfb9aa69201a58056b1e1379123dfbdbedc24e\n",
      "  Building wheel for ibm-cos-sdk-s3transfer (setup.py): started\n",
      "  Building wheel for ibm-cos-sdk-s3transfer (setup.py): finished with status 'done'\n",
      "  Created wheel for ibm-cos-sdk-s3transfer: filename=ibm_cos_sdk_s3transfer-2.12.0-py3-none-any.whl size=89778 sha256=0d0075d7c6074a621ec10a18f59282b85c89c11eacdc0688dcc4230598c737de\n",
      "  Stored in directory: c:\\users\\prasa\\appdata\\local\\pip\\cache\\wheels\\4f\\8b\\ce\\0d93b358521705de3f110de4356db2b820551ea009c865e4bd\n",
      "Successfully built ibm-cos-sdk ibm-cos-sdk-core ibm-cos-sdk-s3transfer\n",
      "Installing collected packages: ibm-cos-sdk-core, ibm-cos-sdk-s3transfer, lomond, ibm-cos-sdk, watson-machine-learning-client\n",
      "Successfully installed ibm-cos-sdk-2.12.0 ibm-cos-sdk-core-2.12.0 ibm-cos-sdk-s3transfer-2.12.0 lomond-0.3.3 watson-machine-learning-client-1.0.391\n"
     ]
    }
   ],
   "source": [
    "!pip install  watson-machine-learning-client"
   ]
  },
  {
   "cell_type": "code",
   "execution_count": 2,
   "id": "804afa89",
   "metadata": {
    "collapsed": true
   },
   "outputs": [
    {
     "name": "stdout",
     "output_type": "stream",
     "text": [
      "Collecting ibm_watson_machine_learning\n",
      "  Downloading ibm_watson_machine_learning-1.0.256-py3-none-any.whl (1.8 MB)\n",
      "Requirement already satisfied: urllib3 in c:\\users\\prasa\\anaconda3\\lib\\site-packages (from ibm_watson_machine_learning) (1.26.9)\n",
      "Requirement already satisfied: importlib-metadata in c:\\users\\prasa\\anaconda3\\lib\\site-packages (from ibm_watson_machine_learning) (4.11.3)\n",
      "Requirement already satisfied: packaging in c:\\users\\prasa\\anaconda3\\lib\\site-packages (from ibm_watson_machine_learning) (21.3)\n",
      "Requirement already satisfied: tabulate in c:\\users\\prasa\\anaconda3\\lib\\site-packages (from ibm_watson_machine_learning) (0.8.9)\n",
      "Collecting ibm-cos-sdk==2.11.*\n",
      "  Downloading ibm-cos-sdk-2.11.0.tar.gz (53 kB)\n",
      "Requirement already satisfied: pandas<1.5.0,>=0.24.2 in c:\\users\\prasa\\anaconda3\\lib\\site-packages (from ibm_watson_machine_learning) (1.4.2)\n",
      "Requirement already satisfied: lomond in c:\\users\\prasa\\anaconda3\\lib\\site-packages (from ibm_watson_machine_learning) (0.3.3)\n",
      "Requirement already satisfied: certifi in c:\\users\\prasa\\anaconda3\\lib\\site-packages (from ibm_watson_machine_learning) (2021.10.8)\n",
      "Requirement already satisfied: requests in c:\\users\\prasa\\anaconda3\\lib\\site-packages (from ibm_watson_machine_learning) (2.27.1)\n",
      "Collecting ibm-cos-sdk-core==2.11.0\n",
      "  Downloading ibm-cos-sdk-core-2.11.0.tar.gz (913 kB)\n",
      "Collecting ibm-cos-sdk-s3transfer==2.11.0\n",
      "  Downloading ibm-cos-sdk-s3transfer-2.11.0.tar.gz (135 kB)\n",
      "Requirement already satisfied: jmespath<1.0.0,>=0.7.1 in c:\\users\\prasa\\anaconda3\\lib\\site-packages (from ibm-cos-sdk==2.11.*->ibm_watson_machine_learning) (0.10.0)\n",
      "Requirement already satisfied: python-dateutil<3.0.0,>=2.1 in c:\\users\\prasa\\anaconda3\\lib\\site-packages (from ibm-cos-sdk-core==2.11.0->ibm-cos-sdk==2.11.*->ibm_watson_machine_learning) (2.8.2)\n",
      "Requirement already satisfied: pytz>=2020.1 in c:\\users\\prasa\\anaconda3\\lib\\site-packages (from pandas<1.5.0,>=0.24.2->ibm_watson_machine_learning) (2021.3)\n",
      "Requirement already satisfied: numpy>=1.18.5 in c:\\users\\prasa\\anaconda3\\lib\\site-packages (from pandas<1.5.0,>=0.24.2->ibm_watson_machine_learning) (1.21.5)\n",
      "Requirement already satisfied: six>=1.5 in c:\\users\\prasa\\anaconda3\\lib\\site-packages (from python-dateutil<3.0.0,>=2.1->ibm-cos-sdk-core==2.11.0->ibm-cos-sdk==2.11.*->ibm_watson_machine_learning) (1.16.0)\n",
      "Requirement already satisfied: charset-normalizer~=2.0.0 in c:\\users\\prasa\\anaconda3\\lib\\site-packages (from requests->ibm_watson_machine_learning) (2.0.4)\n",
      "Requirement already satisfied: idna<4,>=2.5 in c:\\users\\prasa\\anaconda3\\lib\\site-packages (from requests->ibm_watson_machine_learning) (3.3)\n",
      "Requirement already satisfied: zipp>=0.5 in c:\\users\\prasa\\anaconda3\\lib\\site-packages (from importlib-metadata->ibm_watson_machine_learning) (3.7.0)\n",
      "Requirement already satisfied: pyparsing!=3.0.5,>=2.0.2 in c:\\users\\prasa\\anaconda3\\lib\\site-packages (from packaging->ibm_watson_machine_learning) (3.0.4)\n",
      "Building wheels for collected packages: ibm-cos-sdk, ibm-cos-sdk-core, ibm-cos-sdk-s3transfer\n",
      "  Building wheel for ibm-cos-sdk (setup.py): started\n",
      "  Building wheel for ibm-cos-sdk (setup.py): finished with status 'done'\n",
      "  Created wheel for ibm-cos-sdk: filename=ibm_cos_sdk-2.11.0-py3-none-any.whl size=73661 sha256=f33be0e3653a9063d986a5e080339c20824f927115cfe98122f316bd7856a9c8\n",
      "  Stored in directory: c:\\users\\prasa\\appdata\\local\\pip\\cache\\wheels\\d3\\a5\\34\\52d2e378d3d0446989ebcd214af8bad55beecf905258852b9f\n",
      "  Building wheel for ibm-cos-sdk-core (setup.py): started\n",
      "  Building wheel for ibm-cos-sdk-core (setup.py): finished with status 'done'\n",
      "  Created wheel for ibm-cos-sdk-core: filename=ibm_cos_sdk_core-2.11.0-py3-none-any.whl size=536350 sha256=2442d9f987ad9bec55713ffa19c87dade453e60f9caea1e5a49cda5f4c6df215\n",
      "  Stored in directory: c:\\users\\prasa\\appdata\\local\\pip\\cache\\wheels\\ed\\a7\\cd\\32a2cf8bae11ba6fc56451b7c46608cfd9176d1da8c6f73fa1\n",
      "  Building wheel for ibm-cos-sdk-s3transfer (setup.py): started\n",
      "  Building wheel for ibm-cos-sdk-s3transfer (setup.py): finished with status 'done'\n",
      "  Created wheel for ibm-cos-sdk-s3transfer: filename=ibm_cos_sdk_s3transfer-2.11.0-py3-none-any.whl size=89486 sha256=11578044749d9bce13092df38b41927fb3c90e62c1aaf765b99c41141885dd10\n",
      "  Stored in directory: c:\\users\\prasa\\appdata\\local\\pip\\cache\\wheels\\4a\\3f\\7c\\551692188f14bdb095e715dd7f1061fec13b3766d45f3c3296\n",
      "Successfully built ibm-cos-sdk ibm-cos-sdk-core ibm-cos-sdk-s3transfer\n",
      "Installing collected packages: ibm-cos-sdk-core, ibm-cos-sdk-s3transfer, ibm-cos-sdk, ibm-watson-machine-learning\n",
      "  Attempting uninstall: ibm-cos-sdk-core\n",
      "    Found existing installation: ibm-cos-sdk-core 2.12.0\n",
      "    Uninstalling ibm-cos-sdk-core-2.12.0:\n",
      "      Successfully uninstalled ibm-cos-sdk-core-2.12.0\n",
      "  Attempting uninstall: ibm-cos-sdk-s3transfer\n",
      "    Found existing installation: ibm-cos-sdk-s3transfer 2.12.0\n",
      "    Uninstalling ibm-cos-sdk-s3transfer-2.12.0:\n",
      "      Successfully uninstalled ibm-cos-sdk-s3transfer-2.12.0\n",
      "  Attempting uninstall: ibm-cos-sdk\n",
      "    Found existing installation: ibm-cos-sdk 2.12.0\n",
      "    Uninstalling ibm-cos-sdk-2.12.0:\n",
      "      Successfully uninstalled ibm-cos-sdk-2.12.0\n",
      "Successfully installed ibm-cos-sdk-2.11.0 ibm-cos-sdk-core-2.11.0 ibm-cos-sdk-s3transfer-2.11.0 ibm-watson-machine-learning-1.0.256\n"
     ]
    }
   ],
   "source": [
    "!%pip install ibm_watson_machine_learning"
   ]
  },
  {
   "cell_type": "code",
   "execution_count": 1,
   "id": "10d5f8e8",
   "metadata": {},
   "outputs": [],
   "source": [
    "from ibm_watson_machine_learning import  APIClient"
   ]
  },
  {
   "cell_type": "code",
   "execution_count": 2,
   "id": "edc22400",
   "metadata": {},
   "outputs": [],
   "source": [
    "wml_credentials = {\n",
    "\t\"url\":\"https://eu-gb.ml.cloud.ibm.com\",\n",
    "\t\"apikey\":\"EVt1zVq7kc8EBdZixNmtljy66pVQF4Fe8JLPJl-yMUKB\",\n",
    "}"
   ]
  },
  {
   "cell_type": "code",
   "execution_count": 3,
   "id": "5eb37440",
   "metadata": {},
   "outputs": [
    {
     "data": {
      "text/plain": [
       "<ibm_watson_machine_learning.client.APIClient at 0x1f0c1a55bb0>"
      ]
     },
     "execution_count": 3,
     "metadata": {},
     "output_type": "execute_result"
    }
   ],
   "source": [
    "client = APIClient(wml_credentials)\n",
    "client"
   ]
  },
  {
   "cell_type": "code",
   "execution_count": 4,
   "id": "8360e3d2",
   "metadata": {},
   "outputs": [
    {
     "data": {
      "text/plain": [
       "{'resources': [{'entity': {'compute': [{'crn': 'crn:v1:bluemix:public:pm-20:eu-gb:a/2dc81d4487294544b63a8afd3a93b0fb:c9e4feb3-de1b-4fe0-a0c9-84c94ad5d311::',\n",
       "      'guid': 'c9e4feb3-de1b-4fe0-a0c9-84c94ad5d311',\n",
       "      'name': 'Watson Machine Learning-c0',\n",
       "      'type': 'machine_learning'}],\n",
       "    'description': '',\n",
       "    'name': 'Real_Time_communication_For_Specially_Abled_Persons',\n",
       "    'scope': {'bss_account_id': '2dc81d4487294544b63a8afd3a93b0fb'},\n",
       "    'stage': {'production': False},\n",
       "    'status': {'state': 'active'},\n",
       "    'storage': {'properties': {'bucket_name': 'd8fc0ecb-e0cc-4b5f-b91c-d492382386b6',\n",
       "      'bucket_region': 'eu-gb-standard',\n",
       "      'credentials': {'admin': {'access_key_id': '6feca4716a794fde9cbc107159c5d4a1',\n",
       "        'api_key': 'C-p0o-vhyvfBRGkuCBgoCsk7h49M27D2x4hBzQV7TvDY',\n",
       "        'secret_access_key': 'e782d4a393415fd02e5b22ca9ea335c362cb8358a208d4d1',\n",
       "        'service_id': 'ServiceId-0f4d467c-a3ee-4683-8676-d9dfb8492106'},\n",
       "       'editor': {'access_key_id': '4380d9c0dbb24d419b3d55d447524f89',\n",
       "        'api_key': 'X99jP_Inn6R1rlAzsJMFcq35dGX-Bcj6n9ECU_AdPk6j',\n",
       "        'resource_key_crn': 'crn:v1:bluemix:public:cloud-object-storage:global:a/2dc81d4487294544b63a8afd3a93b0fb:a753928e-0c85-4a9b-8b49-28583302d80c::',\n",
       "        'secret_access_key': '966b953dff29e3e45760106b023d4cbbbe6895d45b9499ef',\n",
       "        'service_id': 'ServiceId-fdd62c80-d0ea-4748-a790-708a8e9f44a1'},\n",
       "       'viewer': {'access_key_id': '086ab7ceda344dbe8f2127b47b2b7fad',\n",
       "        'api_key': 'pt6-w6xZXHisbgSCGBJt7r5lbyPHxE8s-Mj3atYPradb',\n",
       "        'resource_key_crn': 'crn:v1:bluemix:public:cloud-object-storage:global:a/2dc81d4487294544b63a8afd3a93b0fb:a753928e-0c85-4a9b-8b49-28583302d80c::',\n",
       "        'secret_access_key': '14a1b72ba1af06b33e1ea5c01c7064a020dfb2dbb31b2ff8',\n",
       "        'service_id': 'ServiceId-bca38ec3-9773-41d6-828c-ef4876be7624'}},\n",
       "      'endpoint_url': 'https://s3.eu-gb.cloud-object-storage.appdomain.cloud',\n",
       "      'guid': 'a753928e-0c85-4a9b-8b49-28583302d80c',\n",
       "      'resource_crn': 'crn:v1:bluemix:public:cloud-object-storage:global:a/2dc81d4487294544b63a8afd3a93b0fb:a753928e-0c85-4a9b-8b49-28583302d80c::'},\n",
       "     'type': 'bmcos_object_storage'}},\n",
       "   'metadata': {'created_at': '2022-11-02T08:43:42.858Z',\n",
       "    'creator_id': 'IBMid-665002K8RY',\n",
       "    'id': '69302d7c-5df3-4d25-b1d2-ac20fcf31bc7',\n",
       "    'updated_at': '2022-11-02T08:43:56.731Z',\n",
       "    'url': '/v2/spaces/69302d7c-5df3-4d25-b1d2-ac20fcf31bc7'}}]}"
      ]
     },
     "execution_count": 4,
     "metadata": {},
     "output_type": "execute_result"
    }
   ],
   "source": [
    "client.spaces.get_details()"
   ]
  },
  {
   "cell_type": "code",
   "execution_count": 5,
   "id": "a1c87494",
   "metadata": {},
   "outputs": [],
   "source": [
    "def guid_space_name(client,Real_Time_communication_For_Specially_Abled_Persons):\n",
    "  space = client.spaces.get_details()\n",
    "  return(next(item for item in space['resources'] if item['entity']['name']==Real_Time_communication_For_Specially_Abled_Persons)['metadata']['id'])"
   ]
  },
  {
   "cell_type": "code",
   "execution_count": 6,
   "id": "d72f710e",
   "metadata": {},
   "outputs": [
    {
     "data": {
      "text/plain": [
       "'69302d7c-5df3-4d25-b1d2-ac20fcf31bc7'"
      ]
     },
     "execution_count": 6,
     "metadata": {},
     "output_type": "execute_result"
    }
   ],
   "source": [
    "space_uid = guid_space_name(client,'Real_Time_communication_For_Specially_Abled_Persons')\n",
    "space_uid"
   ]
  },
  {
   "cell_type": "code",
   "execution_count": 7,
   "id": "819ff81c",
   "metadata": {},
   "outputs": [
    {
     "data": {
      "text/plain": [
       "'SUCCESS'"
      ]
     },
     "execution_count": 7,
     "metadata": {},
     "output_type": "execute_result"
    }
   ],
   "source": [
    "client.set.default_space(space_uid)"
   ]
  },
  {
   "cell_type": "code",
   "execution_count": 8,
   "id": "48dd3f37",
   "metadata": {},
   "outputs": [
    {
     "name": "stdout",
     "output_type": "stream",
     "text": [
      "-----------------------------  ------------------------------------  ----\n",
      "NAME                           ASSET_ID                              TYPE\n",
      "default_py3.6                  0062b8c9-8b7d-44a0-a9b9-46c416adcbd9  base\n",
      "kernel-spark3.2-scala2.12      020d69ce-7ac1-5e68-ac1a-31189867356a  base\n",
      "pytorch-onnx_1.3-py3.7-edt     069ea134-3346-5748-b513-49120e15d288  base\n",
      "scikit-learn_0.20-py3.6        09c5a1d0-9c1e-4473-a344-eb7b665ff687  base\n",
      "spark-mllib_3.0-scala_2.12     09f4cff0-90a7-5899-b9ed-1ef348aebdee  base\n",
      "pytorch-onnx_rt22.1-py3.9      0b848dd4-e681-5599-be41-b5f6fccc6471  base\n",
      "ai-function_0.1-py3.6          0cdb0f1e-5376-4f4d-92dd-da3b69aa9bda  base\n",
      "shiny-r3.6                     0e6e79df-875e-4f24-8ae9-62dcc2148306  base\n",
      "tensorflow_2.4-py3.7-horovod   1092590a-307d-563d-9b62-4eb7d64b3f22  base\n",
      "pytorch_1.1-py3.6              10ac12d6-6b30-4ccd-8392-3e922c096a92  base\n",
      "tensorflow_1.15-py3.6-ddl      111e41b3-de2d-5422-a4d6-bf776828c4b7  base\n",
      "runtime-22.1-py3.9             12b83a17-24d8-5082-900f-0ab31fbfd3cb  base\n",
      "scikit-learn_0.22-py3.6        154010fa-5b3b-4ac1-82af-4d5ee5abbc85  base\n",
      "default_r3.6                   1b70aec3-ab34-4b87-8aa0-a4a3c8296a36  base\n",
      "pytorch-onnx_1.3-py3.6         1bc6029a-cc97-56da-b8e0-39c3880dbbe7  base\n",
      "kernel-spark3.3-r3.6           1c9e5454-f216-59dd-a20e-474a5cdf5988  base\n",
      "pytorch-onnx_rt22.1-py3.9-edt  1d362186-7ad5-5b59-8b6c-9d0880bde37f  base\n",
      "tensorflow_2.1-py3.6           1eb25b84-d6ed-5dde-b6a5-3fbdf1665666  base\n",
      "spark-mllib_3.2                20047f72-0a98-58c7-9ff5-a77b012eb8f5  base\n",
      "tensorflow_2.4-py3.8-horovod   217c16f6-178f-56bf-824a-b19f20564c49  base\n",
      "runtime-22.1-py3.9-cuda        26215f05-08c3-5a41-a1b0-da66306ce658  base\n",
      "do_py3.8                       295addb5-9ef9-547e-9bf4-92ae3563e720  base\n",
      "autoai-ts_3.8-py3.8            2aa0c932-798f-5ae9-abd6-15e0c2402fb5  base\n",
      "tensorflow_1.15-py3.6          2b73a275-7cbf-420b-a912-eae7f436e0bc  base\n",
      "kernel-spark3.3-py3.9          2b7961e2-e3b1-5a8c-a491-482c8368839a  base\n",
      "pytorch_1.2-py3.6              2c8ef57d-2687-4b7d-acce-01f94976dac1  base\n",
      "spark-mllib_2.3                2e51f700-bca0-4b0d-88dc-5c6791338875  base\n",
      "pytorch-onnx_1.1-py3.6-edt     32983cea-3f32-4400-8965-dde874a8d67e  base\n",
      "spark-mllib_3.0-py37           36507ebe-8770-55ba-ab2a-eafe787600e9  base\n",
      "spark-mllib_2.4                390d21f8-e58b-4fac-9c55-d7ceda621326  base\n",
      "xgboost_0.82-py3.6             39e31acd-5f30-41dc-ae44-60233c80306e  base\n",
      "pytorch-onnx_1.2-py3.6-edt     40589d0e-7019-4e28-8daa-fb03b6f4fe12  base\n",
      "default_r36py38                41c247d3-45f8-5a71-b065-8580229facf0  base\n",
      "autoai-ts_rt22.1-py3.9         4269d26e-07ba-5d40-8f66-2d495b0c71f7  base\n",
      "autoai-obm_3.0                 42b92e18-d9ab-567f-988a-4240ba1ed5f7  base\n",
      "pmml-3.0_4.3                   493bcb95-16f1-5bc5-bee8-81b8af80e9c7  base\n",
      "spark-mllib_2.4-r_3.6          49403dff-92e9-4c87-a3d7-a42d0021c095  base\n",
      "xgboost_0.90-py3.6             4ff8d6c2-1343-4c18-85e1-689c965304d3  base\n",
      "pytorch-onnx_1.1-py3.6         50f95b2a-bc16-43bb-bc94-b0bed208c60b  base\n",
      "autoai-ts_3.9-py3.8            52c57136-80fa-572e-8728-a5e7cbb42cde  base\n",
      "spark-mllib_2.4-scala_2.11     55a70f99-7320-4be5-9fb9-9edb5a443af5  base\n",
      "spark-mllib_3.0                5c1b0ca2-4977-5c2e-9439-ffd44ea8ffe9  base\n",
      "autoai-obm_2.0                 5c2e37fa-80b8-5e77-840f-d912469614ee  base\n",
      "spss-modeler_18.1              5c3cad7e-507f-4b2a-a9a3-ab53a21dee8b  base\n",
      "cuda-py3.8                     5d3232bf-c86b-5df4-a2cd-7bb870a1cd4e  base\n",
      "autoai-kb_3.1-py3.7            632d4b22-10aa-5180-88f0-f52dfb6444d7  base\n",
      "pytorch-onnx_1.7-py3.8         634d3cdc-b562-5bf9-a2d4-ea90a478456b  base\n",
      "spark-mllib_2.3-r_3.6          6586b9e3-ccd6-4f92-900f-0f8cb2bd6f0c  base\n",
      "tensorflow_2.4-py3.7           65e171d7-72d1-55d9-8ebb-f813d620c9bb  base\n",
      "spss-modeler_18.2              687eddc9-028a-4117-b9dd-e57b36f1efa5  base\n",
      "-----------------------------  ------------------------------------  ----\n",
      "Note: Only first 50 records were displayed. To display more use 'limit' parameter.\n"
     ]
    }
   ],
   "source": [
    "client.software_specifications.list()"
   ]
  },
  {
   "cell_type": "code",
   "execution_count": 9,
   "id": "fe3cab57",
   "metadata": {},
   "outputs": [
    {
     "data": {
      "text/plain": [
       "'acd9c798-6974-5d2f-a657-ce06e986df4d'"
      ]
     },
     "execution_count": 9,
     "metadata": {},
     "output_type": "execute_result"
    }
   ],
   "source": [
    "software_space_uid = client.software_specifications.get_uid_by_name('tensorflow_rt22.1-py3.9')\n",
    "software_space_uid"
   ]
  },
  {
   "cell_type": "code",
   "execution_count": 10,
   "id": "7e03b41d",
   "metadata": {},
   "outputs": [],
   "source": [
    "model_details = client.repository.store_model(model='IBM_Communication_Model.tgz',meta_props={\n",
    "    client.repository.ModelMetaNames.NAME:\"CNN Real_Time_communication_For_Specially_Abled_Persons\",\n",
    "    client.repository.ModelMetaNames.TYPE:\"tensorflow_2.7\",\n",
    "    client.repository.ModelMetaNames.SOFTWARE_SPEC_UID:software_space_uid\n",
    "})"
   ]
  },
  {
   "cell_type": "code",
   "execution_count": 11,
   "id": "33622700",
   "metadata": {},
   "outputs": [
    {
     "data": {
      "text/plain": [
       "{'entity': {'hybrid_pipeline_software_specs': [],\n",
       "  'software_spec': {'id': 'acd9c798-6974-5d2f-a657-ce06e986df4d',\n",
       "   'name': 'tensorflow_rt22.1-py3.9'},\n",
       "  'type': 'tensorflow_2.7'},\n",
       " 'metadata': {'created_at': '2022-11-03T15:28:49.512Z',\n",
       "  'id': '7b1fc013-5157-4eea-b073-0884bab7fa4c',\n",
       "  'modified_at': '2022-11-03T15:46:10.723Z',\n",
       "  'name': 'CNN Real_Time_communication_For_Specially_Abled_Persons',\n",
       "  'owner': 'IBMid-665002K8RY',\n",
       "  'resource_key': '4ffcc2ad-2df7-4d54-a8d1-9fe7623155cb',\n",
       "  'space_id': '69302d7c-5df3-4d25-b1d2-ac20fcf31bc7'},\n",
       " 'system': {'warnings': []}}"
      ]
     },
     "execution_count": 11,
     "metadata": {},
     "output_type": "execute_result"
    }
   ],
   "source": [
    "model_details"
   ]
  },
  {
   "cell_type": "code",
   "execution_count": 12,
   "id": "2c2ad763",
   "metadata": {},
   "outputs": [
    {
     "data": {
      "text/plain": [
       "'7b1fc013-5157-4eea-b073-0884bab7fa4c'"
      ]
     },
     "execution_count": 12,
     "metadata": {},
     "output_type": "execute_result"
    }
   ],
   "source": [
    "model_id = client.repository.get_model_id(model_details)\n",
    "model_id"
   ]
  },
  {
   "cell_type": "code",
   "execution_count": 13,
   "id": "566df582",
   "metadata": {},
   "outputs": [
    {
     "name": "stdout",
     "output_type": "stream",
     "text": [
      "Successfully saved model content to file: 'IBM_Communication_Model.tar.gb'\n"
     ]
    },
    {
     "data": {
      "text/plain": [
       "'C:\\\\Users\\\\prasa\\\\OneDrive\\\\Desktop\\\\IBM Project/IBM_Communication_Model.tar.gb'"
      ]
     },
     "execution_count": 13,
     "metadata": {},
     "output_type": "execute_result"
    }
   ],
   "source": [
    "client.repository.download(model_id,'IBM_Communication_Model.tar.gb')"
   ]
  },
  {
   "cell_type": "code",
   "execution_count": null,
   "id": "a72aa226",
   "metadata": {},
   "outputs": [],
   "source": []
  }
 ],
 "metadata": {
  "kernelspec": {
   "display_name": "Python 3 (ipykernel)",
   "language": "python",
   "name": "python3"
  },
  "language_info": {
   "codemirror_mode": {
    "name": "ipython",
    "version": 3
   },
   "file_extension": ".py",
   "mimetype": "text/x-python",
   "name": "python",
   "nbconvert_exporter": "python",
   "pygments_lexer": "ipython3",
   "version": "3.9.12"
  },
  "varInspector": {
   "cols": {
    "lenName": 16,
    "lenType": 16,
    "lenVar": 40
   },
   "kernels_config": {
    "python": {
     "delete_cmd_postfix": "",
     "delete_cmd_prefix": "del ",
     "library": "var_list.py",
     "varRefreshCmd": "print(var_dic_list())"
    },
    "r": {
     "delete_cmd_postfix": ") ",
     "delete_cmd_prefix": "rm(",
     "library": "var_list.r",
     "varRefreshCmd": "cat(var_dic_list()) "
    }
   },
   "types_to_exclude": [
    "module",
    "function",
    "builtin_function_or_method",
    "instance",
    "_Feature"
   ],
   "window_display": false
  }
 },
 "nbformat": 4,
 "nbformat_minor": 5
}
